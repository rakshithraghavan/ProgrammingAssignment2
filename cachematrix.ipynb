{
 "cells": [
  {
   "cell_type": "code",
   "execution_count": 1,
   "metadata": {},
   "outputs": [],
   "source": [
    "## Input x as a matrix\n",
    "## and then set \"s\" value as null\n",
    "## then I changed reference from \"mean\" to \"solve\""
   ]
  },
  {
   "cell_type": "code",
   "execution_count": 2,
   "metadata": {},
   "outputs": [],
   "source": [
    "makeCacheMatrix <- function(x = matrix(sample(1:50,9),3,3)) {\n",
    "  s <- NULL\n",
    "  set <- function(y) {\n",
    "    x <<- y\n",
    "    s <<- NULL\n",
    "  }\n",
    "  get <- function() x\n",
    "  setsolve <- function(solve) s <<- solve\n",
    "  getsolve <- function() s\n",
    "  list(set = set, get = get,\n",
    "       setsolve = setsolve,\n",
    "       getsolve = getsolve)\n",
    "}"
   ]
  },
  {
   "cell_type": "code",
   "execution_count": 3,
   "metadata": {},
   "outputs": [],
   "source": [
    "## Similarly, changed \"mean\" to \"solve\".\n",
    "cacheSolve <- function(x, ...) {\n",
    "  s <- x$getsolve()\n",
    "  if(!is.null(s)) {\n",
    "    message(\"Inversed Matrix\")\n",
    "    return(s)\n",
    "  }\n",
    "  data <- x$get()\n",
    "  s <- solve(data, ...)\n",
    "  x$setsolve(s)\n",
    "  s\n",
    "}"
   ]
  },
  {
   "cell_type": "markdown",
   "metadata": {},
   "source": [
    "## Our aim is to write a pair of functions, namely, \"makeCacheMatrix\" and \"cacheSolve\" that cache the inverse of a matrix\n",
    "\n",
    "## makeCacheMatrix is a function which creates a special \"matrix\" object that can cache its inverse for the input."
   ]
  },
  {
   "cell_type": "code",
   "execution_count": 4,
   "metadata": {},
   "outputs": [],
   "source": [
    "makeCacheMatrix <- function(x = matrix()) {\n",
    "\n",
    "inv <- NULL\n",
    "set <- function(y) {\n",
    "x <<- y\n",
    "inv <<- NULL\n",
    "}\n",
    "get <- function() x\n",
    "setinv <- function(inverse) inv <<- inverse\n",
    "getinv <- function() inv\n",
    "list(set = set, get = get, setinv = setinv, getinv = getinv)\n",
    "}"
   ]
  },
  {
   "cell_type": "markdown",
   "metadata": {},
   "source": [
    "## CacheSolve is a function which computes the inverse of the special \"matrix\" returned by makeCacheMatrix above. If the inverse has already been calculated, then the cachesolve should retrieve the inverse from the cache."
   ]
  },
  {
   "cell_type": "code",
   "execution_count": 5,
   "metadata": {},
   "outputs": [],
   "source": [
    "cacheSolve <- function(x, ...) {\n",
    "## Return a matrix that is the inverse of 'x'\n",
    "inv <- x$getinv()\n",
    "if(!is.null(inv)) {\n",
    "message(\"getting cached result\")\n",
    "return(inv)\n",
    "}\n",
    "data <- x$get()\n",
    "inv <- solve(data, ...)\n",
    "x$setinv(inv)\n",
    "inv\n",
    "}"
   ]
  },
  {
   "cell_type": "code",
   "execution_count": 6,
   "metadata": {},
   "outputs": [
    {
     "data": {
      "text/html": [
       "<table>\n",
       "<caption>A matrix: 4 × 4 of type dbl</caption>\n",
       "<tbody>\n",
       "\t<tr><td>-0.68736545</td><td> 1.1299616</td><td> 1.42110840</td><td> 0.1353025</td></tr>\n",
       "\t<tr><td> 0.09669186</td><td> 0.9054436</td><td> 0.08763473</td><td> 0.3361183</td></tr>\n",
       "\t<tr><td>-0.34642635</td><td> 0.1440750</td><td> 1.07017556</td><td>-0.5809824</td></tr>\n",
       "\t<tr><td>-0.11999665</td><td>-0.4790481</td><td>-0.57205556</td><td>-0.4367696</td></tr>\n",
       "</tbody>\n",
       "</table>\n"
      ],
      "text/latex": [
       "A matrix: 4 × 4 of type dbl\n",
       "\\begin{tabular}{llll}\n",
       "\t -0.68736545 &  1.1299616 &  1.42110840 &  0.1353025\\\\\n",
       "\t  0.09669186 &  0.9054436 &  0.08763473 &  0.3361183\\\\\n",
       "\t -0.34642635 &  0.1440750 &  1.07017556 & -0.5809824\\\\\n",
       "\t -0.11999665 & -0.4790481 & -0.57205556 & -0.4367696\\\\\n",
       "\\end{tabular}\n"
      ],
      "text/markdown": [
       "\n",
       "A matrix: 4 × 4 of type dbl\n",
       "\n",
       "| -0.68736545 |  1.1299616 |  1.42110840 |  0.1353025 |\n",
       "|  0.09669186 |  0.9054436 |  0.08763473 |  0.3361183 |\n",
       "| -0.34642635 |  0.1440750 |  1.07017556 | -0.5809824 |\n",
       "| -0.11999665 | -0.4790481 | -0.57205556 | -0.4367696 |\n",
       "\n"
      ],
      "text/plain": [
       "     [,1]        [,2]       [,3]        [,4]      \n",
       "[1,] -0.68736545  1.1299616  1.42110840  0.1353025\n",
       "[2,]  0.09669186  0.9054436  0.08763473  0.3361183\n",
       "[3,] -0.34642635  0.1440750  1.07017556 -0.5809824\n",
       "[4,] -0.11999665 -0.4790481 -0.57205556 -0.4367696"
      ]
     },
     "metadata": {},
     "output_type": "display_data"
    }
   ],
   "source": [
    "m <- matrix(rnorm(16),4,4)\n",
    "m1 <- makeCacheMatrix(m)\n",
    "cacheSolve(m1)"
   ]
  },
  {
   "cell_type": "markdown",
   "metadata": {},
   "source": [
    "## Caching the Inverse of a Matrix: Matrix inversion is usually a costly computation and there may be some benefit to caching the inverse of a matrix rather than compute it repeatedly.\n",
    "## Below are a pair of functions that are used to create a special object that stores a matrix and caches its inverse. This function creates a special \"matrix\" object that can cache its inverse."
   ]
  },
  {
   "cell_type": "code",
   "execution_count": 7,
   "metadata": {},
   "outputs": [],
   "source": [
    "makeCacheMatrix <- function(x = matrix()) {\n",
    "inv <- NULL\n",
    "set <- function(y) {\n",
    "x <<- y\n",
    "inv <<- NULL\n",
    "}\n",
    "get <- function() x\n",
    "setInverse <- function(inverse) inv <<- inverse\n",
    "getInverse <- function() inv\n",
    "list(set = set,\n",
    "get = get,\n",
    "setInverse = setInverse,\n",
    "getInverse = getInverse)\n",
    "}"
   ]
  },
  {
   "cell_type": "markdown",
   "metadata": {},
   "source": [
    "## This function computes the inverse of the special \"matrix\" created by makeCacheMatrix above. If the inverse has already been calculated (and the matrix has not changed), then it should retrieve the inverse from the cache."
   ]
  },
  {
   "cell_type": "code",
   "execution_count": 8,
   "metadata": {},
   "outputs": [],
   "source": [
    "cacheSolve <- function(x, ...) {\n",
    "## Return a matrix that is the inverse of 'x'\n",
    "inv <- x$getInverse()\n",
    "if (!is.null(inv)) {\n",
    "message(\"getting cached data\")\n",
    "return(inv)\n",
    "}\n",
    "mat <- x$get()\n",
    "inv <- solve(mat, ...)\n",
    "x$setInverse(inv)\n",
    "inv\n",
    "}"
   ]
  },
  {
   "cell_type": "code",
   "execution_count": 9,
   "metadata": {},
   "outputs": [
    {
     "name": "stderr",
     "output_type": "stream",
     "text": [
      "Warning message in file(filename, \"r\", encoding = encoding):\n",
      "“cannot open file 'ProgrammingAssignment2/cachematrix.R': No such file or directory”\n"
     ]
    },
    {
     "ename": "ERROR",
     "evalue": "Error in file(filename, \"r\", encoding = encoding): cannot open the connection\n",
     "output_type": "error",
     "traceback": [
      "Error in file(filename, \"r\", encoding = encoding): cannot open the connection\nTraceback:\n",
      "1. source(\"ProgrammingAssignment2/cachematrix.R\")",
      "2. file(filename, \"r\", encoding = encoding)"
     ]
    }
   ],
   "source": [
    "# Testing\n",
    "source(\"ProgrammingAssignment2/cachematrix.R\")"
   ]
  },
  {
   "cell_type": "code",
   "execution_count": 10,
   "metadata": {},
   "outputs": [
    {
     "data": {
      "text/html": [
       "<table>\n",
       "<caption>A matrix: 2 × 2 of type int</caption>\n",
       "<tbody>\n",
       "\t<tr><td>1</td><td>3</td></tr>\n",
       "\t<tr><td>2</td><td>4</td></tr>\n",
       "</tbody>\n",
       "</table>\n"
      ],
      "text/latex": [
       "A matrix: 2 × 2 of type int\n",
       "\\begin{tabular}{ll}\n",
       "\t 1 & 3\\\\\n",
       "\t 2 & 4\\\\\n",
       "\\end{tabular}\n"
      ],
      "text/markdown": [
       "\n",
       "A matrix: 2 × 2 of type int\n",
       "\n",
       "| 1 | 3 |\n",
       "| 2 | 4 |\n",
       "\n"
      ],
      "text/plain": [
       "     [,1] [,2]\n",
       "[1,] 1    3   \n",
       "[2,] 2    4   "
      ]
     },
     "metadata": {},
     "output_type": "display_data"
    }
   ],
   "source": [
    "my_matrix <- makeCacheMatrix(matrix(1:4, 2, 2))\n",
    "my_matrix$get()"
   ]
  },
  {
   "cell_type": "code",
   "execution_count": 11,
   "metadata": {},
   "outputs": [
    {
     "data": {
      "text/plain": [
       "NULL"
      ]
     },
     "metadata": {},
     "output_type": "display_data"
    }
   ],
   "source": [
    "my_matrix$getInverse()\n"
   ]
  },
  {
   "cell_type": "code",
   "execution_count": 12,
   "metadata": {},
   "outputs": [
    {
     "data": {
      "text/html": [
       "<table>\n",
       "<caption>A matrix: 2 × 2 of type dbl</caption>\n",
       "<tbody>\n",
       "\t<tr><td>-2</td><td> 1.5</td></tr>\n",
       "\t<tr><td> 1</td><td>-0.5</td></tr>\n",
       "</tbody>\n",
       "</table>\n"
      ],
      "text/latex": [
       "A matrix: 2 × 2 of type dbl\n",
       "\\begin{tabular}{ll}\n",
       "\t -2 &  1.5\\\\\n",
       "\t  1 & -0.5\\\\\n",
       "\\end{tabular}\n"
      ],
      "text/markdown": [
       "\n",
       "A matrix: 2 × 2 of type dbl\n",
       "\n",
       "| -2 |  1.5 |\n",
       "|  1 | -0.5 |\n",
       "\n"
      ],
      "text/plain": [
       "     [,1] [,2]\n",
       "[1,] -2    1.5\n",
       "[2,]  1   -0.5"
      ]
     },
     "metadata": {},
     "output_type": "display_data"
    }
   ],
   "source": [
    "cacheSolve(my_matrix)"
   ]
  },
  {
   "cell_type": "code",
   "execution_count": 13,
   "metadata": {},
   "outputs": [
    {
     "data": {
      "text/html": [
       "<table>\n",
       "<caption>A matrix: 2 × 2 of type dbl</caption>\n",
       "<tbody>\n",
       "\t<tr><td>-2</td><td> 1.5</td></tr>\n",
       "\t<tr><td> 1</td><td>-0.5</td></tr>\n",
       "</tbody>\n",
       "</table>\n"
      ],
      "text/latex": [
       "A matrix: 2 × 2 of type dbl\n",
       "\\begin{tabular}{ll}\n",
       "\t -2 &  1.5\\\\\n",
       "\t  1 & -0.5\\\\\n",
       "\\end{tabular}\n"
      ],
      "text/markdown": [
       "\n",
       "A matrix: 2 × 2 of type dbl\n",
       "\n",
       "| -2 |  1.5 |\n",
       "|  1 | -0.5 |\n",
       "\n"
      ],
      "text/plain": [
       "     [,1] [,2]\n",
       "[1,] -2    1.5\n",
       "[2,]  1   -0.5"
      ]
     },
     "metadata": {},
     "output_type": "display_data"
    }
   ],
   "source": [
    "\n",
    "my_matrix$getInverse()"
   ]
  },
  {
   "cell_type": "code",
   "execution_count": 14,
   "metadata": {},
   "outputs": [],
   "source": [
    "my_matrix$set(matrix(c(2, 2, 1, 4), 2, 2))"
   ]
  },
  {
   "cell_type": "code",
   "execution_count": 15,
   "metadata": {},
   "outputs": [
    {
     "data": {
      "text/html": [
       "<table>\n",
       "<caption>A matrix: 2 × 2 of type dbl</caption>\n",
       "<tbody>\n",
       "\t<tr><td>2</td><td>1</td></tr>\n",
       "\t<tr><td>2</td><td>4</td></tr>\n",
       "</tbody>\n",
       "</table>\n"
      ],
      "text/latex": [
       "A matrix: 2 × 2 of type dbl\n",
       "\\begin{tabular}{ll}\n",
       "\t 2 & 1\\\\\n",
       "\t 2 & 4\\\\\n",
       "\\end{tabular}\n"
      ],
      "text/markdown": [
       "\n",
       "A matrix: 2 × 2 of type dbl\n",
       "\n",
       "| 2 | 1 |\n",
       "| 2 | 4 |\n",
       "\n"
      ],
      "text/plain": [
       "     [,1] [,2]\n",
       "[1,] 2    1   \n",
       "[2,] 2    4   "
      ]
     },
     "metadata": {},
     "output_type": "display_data"
    }
   ],
   "source": [
    "my_matrix$get()"
   ]
  },
  {
   "cell_type": "code",
   "execution_count": 16,
   "metadata": {},
   "outputs": [
    {
     "data": {
      "text/plain": [
       "NULL"
      ]
     },
     "metadata": {},
     "output_type": "display_data"
    }
   ],
   "source": [
    "my_matrix$getInverse()\n"
   ]
  },
  {
   "cell_type": "code",
   "execution_count": 17,
   "metadata": {},
   "outputs": [
    {
     "data": {
      "text/html": [
       "<table>\n",
       "<caption>A matrix: 2 × 2 of type dbl</caption>\n",
       "<tbody>\n",
       "\t<tr><td> 0.6666667</td><td>-0.1666667</td></tr>\n",
       "\t<tr><td>-0.3333333</td><td> 0.3333333</td></tr>\n",
       "</tbody>\n",
       "</table>\n"
      ],
      "text/latex": [
       "A matrix: 2 × 2 of type dbl\n",
       "\\begin{tabular}{ll}\n",
       "\t  0.6666667 & -0.1666667\\\\\n",
       "\t -0.3333333 &  0.3333333\\\\\n",
       "\\end{tabular}\n"
      ],
      "text/markdown": [
       "\n",
       "A matrix: 2 × 2 of type dbl\n",
       "\n",
       "|  0.6666667 | -0.1666667 |\n",
       "| -0.3333333 |  0.3333333 |\n",
       "\n"
      ],
      "text/plain": [
       "     [,1]       [,2]      \n",
       "[1,]  0.6666667 -0.1666667\n",
       "[2,] -0.3333333  0.3333333"
      ]
     },
     "metadata": {},
     "output_type": "display_data"
    }
   ],
   "source": [
    "cacheSolve(my_matrix)"
   ]
  },
  {
   "cell_type": "code",
   "execution_count": 18,
   "metadata": {},
   "outputs": [
    {
     "name": "stderr",
     "output_type": "stream",
     "text": [
      "getting cached data\n",
      "\n"
     ]
    },
    {
     "data": {
      "text/html": [
       "<table>\n",
       "<caption>A matrix: 2 × 2 of type dbl</caption>\n",
       "<tbody>\n",
       "\t<tr><td> 0.6666667</td><td>-0.1666667</td></tr>\n",
       "\t<tr><td>-0.3333333</td><td> 0.3333333</td></tr>\n",
       "</tbody>\n",
       "</table>\n"
      ],
      "text/latex": [
       "A matrix: 2 × 2 of type dbl\n",
       "\\begin{tabular}{ll}\n",
       "\t  0.6666667 & -0.1666667\\\\\n",
       "\t -0.3333333 &  0.3333333\\\\\n",
       "\\end{tabular}\n"
      ],
      "text/markdown": [
       "\n",
       "A matrix: 2 × 2 of type dbl\n",
       "\n",
       "|  0.6666667 | -0.1666667 |\n",
       "| -0.3333333 |  0.3333333 |\n",
       "\n"
      ],
      "text/plain": [
       "     [,1]       [,2]      \n",
       "[1,]  0.6666667 -0.1666667\n",
       "[2,] -0.3333333  0.3333333"
      ]
     },
     "metadata": {},
     "output_type": "display_data"
    }
   ],
   "source": [
    "cacheSolve(my_matrix)\n"
   ]
  },
  {
   "cell_type": "code",
   "execution_count": 19,
   "metadata": {},
   "outputs": [
    {
     "data": {
      "text/html": [
       "<table>\n",
       "<caption>A matrix: 2 × 2 of type dbl</caption>\n",
       "<tbody>\n",
       "\t<tr><td> 0.6666667</td><td>-0.1666667</td></tr>\n",
       "\t<tr><td>-0.3333333</td><td> 0.3333333</td></tr>\n",
       "</tbody>\n",
       "</table>\n"
      ],
      "text/latex": [
       "A matrix: 2 × 2 of type dbl\n",
       "\\begin{tabular}{ll}\n",
       "\t  0.6666667 & -0.1666667\\\\\n",
       "\t -0.3333333 &  0.3333333\\\\\n",
       "\\end{tabular}\n"
      ],
      "text/markdown": [
       "\n",
       "A matrix: 2 × 2 of type dbl\n",
       "\n",
       "|  0.6666667 | -0.1666667 |\n",
       "| -0.3333333 |  0.3333333 |\n",
       "\n"
      ],
      "text/plain": [
       "     [,1]       [,2]      \n",
       "[1,]  0.6666667 -0.1666667\n",
       "[2,] -0.3333333  0.3333333"
      ]
     },
     "metadata": {},
     "output_type": "display_data"
    }
   ],
   "source": [
    "my_matrix$getInverse()"
   ]
  },
  {
   "cell_type": "code",
   "execution_count": null,
   "metadata": {},
   "outputs": [],
   "source": []
  },
  {
   "cell_type": "code",
   "execution_count": null,
   "metadata": {},
   "outputs": [],
   "source": []
  }
 ],
 "metadata": {
  "kernelspec": {
   "display_name": "R",
   "language": "R",
   "name": "ir"
  },
  "language_info": {
   "codemirror_mode": "r",
   "file_extension": ".r",
   "mimetype": "text/x-r-source",
   "name": "R",
   "pygments_lexer": "r",
   "version": "3.6.3"
  }
 },
 "nbformat": 4,
 "nbformat_minor": 4
}
